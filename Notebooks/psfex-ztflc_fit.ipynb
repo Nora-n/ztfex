{
 "cells": [
  {
   "cell_type": "markdown",
   "metadata": {},
   "source": [
    "# Modules"
   ]
  },
  {
   "cell_type": "code",
   "execution_count": null,
   "metadata": {
    "jupyter": {
     "source_hidden": true
    }
   },
   "outputs": [],
   "source": [
    "%matplotlib widget\n",
    "import os\n",
    "import glob\n",
    "import psfex\n",
    "import pickle\n",
    "import sncosmo\n",
    "import numpy as np\n",
    "import pandas as pd\n",
    "import iminuit as im\n",
    "import astropy as ap\n",
    "import ipywidgets as ipw\n",
    "import matplotlib.pyplot as plt\n",
    "import ztfquery\n",
    "import ztfimg\n",
    "import ztflc\n",
    "\n",
    "from ztfimg import dao\n",
    "from ztfimg import image\n",
    "from ztflc import fitter\n",
    "from ztflc import diffdata\n",
    "from astropy.io import fits\n",
    "from ztfquery import marshal\n",
    "from astrobject import photometry\n",
    "from ztflc import forcephotometry\n",
    "from scipy.stats import multivariate_normal\n",
    "from sncosmo.models import Source, Model, get_source\n",
    "from mpl_toolkits.axes_grid1 import make_axes_locatable\n",
    "from sncosmo import get_bandpass, get_magsystem\n",
    "from sncosmo.photdata import photometric_data"
   ]
  },
  {
   "cell_type": "code",
   "execution_count": 2,
   "metadata": {},
   "outputs": [],
   "source": [
    "root = \"../Data/\"\n",
    "psfoutcat = root + 'config_ZOGY/BlackGEM_default/psfex_out.cat'\n",
    "mask = root + \"ztf_20190124095417_000403_zr_c01_o_q1_mskimg.fits\"\n",
    "psfcat = root + \"ztf_20190124095417_000403_zr_c01_o_q1_psfcat.fits\"\n",
    "sciimg = root + \"ztf_20190124095417_000403_zr_c01_o_q1_sciimg.fits\"\n",
    "diffpsfpath = root + 'ztf_20190124095417_000403_zr_c01_o_q1_diffimgpsf.fits'\n",
    "psfcent = root + \"ztf_20190124095417_000403_zr_c01_o_q1_sciimgdaopsfcent.fits\"\n",
    "diffimgpath = root + 'ztf_20190124095417_000403_zr_c01_o_q1_scimrefdiffimg.fits.fz'\n",
    "\n",
    "hdul = fits.open(sciimg)\n",
    "pdul = fits.open(psfcat)\n",
    "cdul = fits.open(psfcent)\n",
    "\n",
    "cdata = cdul[0].data\n",
    "header = hdul[0].header\n",
    "\n",
    "#df_psfcat = pd.DataFrame(pdul[1].data)\n",
    "#x_list, y_list = df_psfcat['xpos'], df_psfcat['ypos']\n",
    "\n",
    "df_outcat = pd.read_csv(psfoutcat, delim_whitespace=True)\n",
    "x_list, y_list = df_outcat[['x', 'y']].values.T\n",
    "xy_list = df_outcat[['x', 'y']].values\n",
    "\n",
    "zimg = photometry.Image(sciimg, background=0)\n",
    "ra_list, dec_list = np.asarray([zimg.pixel_to_coords(x, y) for x, y in xy_list]).T\n",
    "\n",
    "z = image.ScienceImage(sciimg, mask)\n",
    "z.load_source_background()\n",
    "z.set_catalog(df_outcat, 'outcat')\n",
    "\n",
    "row = z.header[\"NAXIS1\"]\n",
    "col = z.header[\"NAXIS2\"]"
   ]
  },
  {
   "cell_type": "markdown",
   "metadata": {},
   "source": [
    "plt.close()\n",
    "ax = z.show('dataclean')\n",
    "ax.scatter(x_list, y_list, color='C1', marker='+')"
   ]
  },
  {
   "cell_type": "code",
   "execution_count": 9,
   "metadata": {},
   "outputs": [],
   "source": [
    "diffimg = '../Data/ztf_20190124095417_000403_zr_c01_o_q1_scimrefdiffimg.fits.fz'\n",
    "diffpsf = '../Data/ztf_20190124095417_000403_zr_c01_o_q1_diffimgpsf.fits'\n",
    "ind = 100\n",
    "fit_obj = ztflc.diffdata.DiffData(diffimg,\n",
    "                                  diffpsf,\n",
    "                                  (ra_list[ind],\n",
    "                                   dec_list[ind]))"
   ]
  },
  {
   "cell_type": "code",
   "execution_count": 10,
   "metadata": {},
   "outputs": [
    {
     "data": {
      "text/plain": [
       "{'sigma': 7.001478769590302,\n",
       " 'sigma.err': 0.1399685270627203,\n",
       " 'ampl': 9.325205108081073,\n",
       " 'ampl.err': 29.94603771622619,\n",
       " 'fval': 4206.3381759299555,\n",
       " 'chi2': 625.01434,\n",
       " 'chi2dof': 1.0032332957651986}"
      ]
     },
     "execution_count": 10,
     "metadata": {},
     "output_type": "execute_result"
    }
   ],
   "source": [
    "fit_obj.fit_flux()"
   ]
  },
  {
   "cell_type": "code",
   "execution_count": 9,
   "metadata": {},
   "outputs": [],
   "source": [
    "diffimg_data = fits.getdata(diffimg)\n",
    "diffpsf_data = fits.getdata(diffpsf)"
   ]
  }
 ],
 "metadata": {
  "kernelspec": {
   "display_name": "Python 3",
   "language": "python",
   "name": "python3"
  },
  "language_info": {
   "codemirror_mode": {
    "name": "ipython",
    "version": 3
   },
   "file_extension": ".py",
   "mimetype": "text/x-python",
   "name": "python",
   "nbconvert_exporter": "python",
   "pygments_lexer": "ipython3",
   "version": "3.7.4"
  }
 },
 "nbformat": 4,
 "nbformat_minor": 4
}
