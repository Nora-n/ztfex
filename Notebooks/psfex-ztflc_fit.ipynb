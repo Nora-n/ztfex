{
 "cells": [
  {
   "cell_type": "markdown",
   "metadata": {},
   "source": [
    "# Modules"
   ]
  },
  {
   "cell_type": "code",
   "execution_count": 1,
   "metadata": {
    "jupyter": {
     "source_hidden": true
    }
   },
   "outputs": [],
   "source": [
    "%matplotlib widget\n",
    "import os\n",
    "import glob\n",
    "import psfex\n",
    "import pickle\n",
    "import sncosmo\n",
    "import numpy as np\n",
    "import pandas as pd\n",
    "import iminuit as im\n",
    "import astropy as ap\n",
    "import ipywidgets as ipw\n",
    "import matplotlib.pyplot as plt\n",
    "import ztfquery\n",
    "import ztfimg\n",
    "import ztflc\n",
    "\n",
    "from ztfimg import dao\n",
    "from ztfimg import image\n",
    "from ztflc import fitter\n",
    "from ztflc import diffdata\n",
    "from astropy.io import fits\n",
    "from ztfquery import marshal\n",
    "from astrobject import photometry\n",
    "from ztflc import forcephotometry\n",
    "from scipy.stats import multivariate_normal\n",
    "from sncosmo.models import Source, Model, get_source\n",
    "from mpl_toolkits.axes_grid1 import make_axes_locatable\n",
    "from sncosmo import get_bandpass, get_magsystem\n",
    "from sncosmo.photdata import photometric_data"
   ]
  },
  {
   "cell_type": "markdown",
   "metadata": {},
   "source": [
    "### Open relevant data, create stars list from chosen catalog, and choose one to fit"
   ]
  },
  {
   "cell_type": "code",
   "execution_count": 12,
   "metadata": {},
   "outputs": [],
   "source": [
    "root = \"../Data/\"\n",
    "psfoutcat = root + 'config_ZOGY/BlackGEM_default/psfex_out.cat'\n",
    "mask = root + \"ztf_20190124095417_000403_zr_c01_o_q1_mskimg.fits\"\n",
    "psfcat = root + \"ztf_20190124095417_000403_zr_c01_o_q1_psfcat.fits\"\n",
    "sciimg = root + \"ztf_20190124095417_000403_zr_c01_o_q1_sciimg.fits\"\n",
    "psfcent = root + \"ztf_20190124095417_000403_zr_c01_o_q1_sciimgdaopsfcent.fits\"\n",
    "diffimgpath = root + 'ztf_20190124095417_000403_zr_c01_o_q1_scimrefdiffimg.fits.fz'\n",
    "diffpsfpath = root + 'ztf_20190124095417_000403_zr_c01_o_q1_diffimgpsf.fits'\n",
    "\n",
    "sdul = fits.open(sciimg)\n",
    "pdul = fits.open(psfcat)\n",
    "cdul = fits.open(psfcent)\n",
    "\n",
    "cdata = cdul[0].data\n",
    "header = pdul[0].header\n",
    "\n",
    "#df_psfcat = pd.DataFrame(pdul[1].data)\n",
    "#x_list, y_list = df_psfcat['xpos'], df_psfcat['ypos']\n",
    "\n",
    "df_outcat = pd.read_csv(psfoutcat, delim_whitespace=True)\n",
    "x_list, y_list = df_outcat[['x', 'y']].values.T\n",
    "xy_list = df_outcat[['x', 'y']].values\n",
    "\n",
    "zimg = photometry.Image(sciimg, background=0)\n",
    "ra_list, dec_list = np.asarray([zimg.pixel_to_coords(x, y) for x, y in xy_list]).T\n",
    "\n",
    "z = image.ScienceImage(sciimg, mask)\n",
    "z.load_source_background()\n",
    "z.set_catalog(df_outcat, 'outcat')\n",
    "\n",
    "ind = 500\n",
    "row, col = x_list[ind], y_list[ind]"
   ]
  },
  {
   "cell_type": "markdown",
   "metadata": {},
   "source": [
    "plt.close()\n",
    "ax = z.show('dataclean')\n",
    "ax.scatter(x_list, y_list, color='C1', marker='+')"
   ]
  },
  {
   "cell_type": "markdown",
   "metadata": {},
   "source": [
    "### PSF choice"
   ]
  },
  {
   "cell_type": "code",
   "execution_count": 13,
   "metadata": {},
   "outputs": [
    {
     "data": {
      "application/vnd.jupyter.widget-view+json": {
       "model_id": "b746e1cec5a14d06969b787998070109",
       "version_major": 2,
       "version_minor": 0
      },
      "text/plain": [
       "interactive(children=(Dropdown(description='Which psfex.config?', index=1, options=('psfex_wrapper', 'BlackGEM…"
      ]
     },
     "metadata": {},
     "output_type": "display_data"
    }
   ],
   "source": [
    "subdir_list = [subdir_name for subdir_name in os.listdir('../Data/config_ZOGY/')]\n",
    "\n",
    "psfchoice = ipw.Dropdown(options=subdir_list,\n",
    "                         description='Which psfex.config?',\n",
    "                         value=subdir_list[1])\n",
    "def choose_psf(psfdir):\n",
    "    global psfimg, psfimg_cent, psfimg_smpl, psfobj\n",
    "    psfilepath = \"../Data/config_ZOGY/\" + psfdir + '/test.psf'\n",
    "    psfobj = psfex.PSFEx(psfilepath)\n",
    "    psfimg = psfobj.get_rec(row, col)\n",
    "\n",
    "int_choose_psf = ipw.interactive(choose_psf, psfdir=psfchoice)\n",
    "display(int_choose_psf)"
   ]
  },
  {
   "cell_type": "markdown",
   "metadata": {},
   "source": [
    "### Create `.fits` file from the chosen `.psf` file"
   ]
  },
  {
   "cell_type": "code",
   "execution_count": 14,
   "metadata": {},
   "outputs": [],
   "source": [
    "FILE_OUT = sciimg[:-11] + 'psfeximg.fits'\n",
    "\n",
    "psfeximg = fits.HDUList(fits.PrimaryHDU(data=psfimg,\n",
    "                                        header=header))\n",
    "psfeximg.writeto(FILE_OUT, overwrite=True)"
   ]
  },
  {
   "cell_type": "markdown",
   "metadata": {},
   "source": [
    "### Assign the data to `ztflc`"
   ]
  },
  {
   "cell_type": "code",
   "execution_count": 15,
   "metadata": {},
   "outputs": [],
   "source": [
    "diffpsfex = '../Data/ztf_20190124095417_000403_zr_c01_o_q1_psfeximg.fits'\n",
    "fit_obj = ztflc.diffdata.DiffData(diffimgpath,\n",
    "                                  #diffpsfpath,\n",
    "                                  diffpsfex,\n",
    "                                  (ra_list[ind],\n",
    "                                   dec_list[ind]))"
   ]
  },
  {
   "cell_type": "markdown",
   "metadata": {},
   "source": [
    "### Fit result"
   ]
  },
  {
   "cell_type": "code",
   "execution_count": 16,
   "metadata": {},
   "outputs": [
    {
     "data": {
      "text/plain": [
       "{'sigma': 7.457749773544009,\n",
       " 'sigma.err': 0.2293083722802518,\n",
       " 'ampl': -68.18377927782038,\n",
       " 'ampl.err': 30.443187019151466,\n",
       " 'fval': 3626.936199731239,\n",
       " 'chi2': 527.9565889112422,\n",
       " 'chi2dof': 1.0018151592243685}"
      ]
     },
     "execution_count": 16,
     "metadata": {},
     "output_type": "execute_result"
    }
   ],
   "source": [
    "fit_obj.fit_flux()"
   ]
  },
  {
   "cell_type": "markdown",
   "metadata": {},
   "source": [
    "## Compare the used psf"
   ]
  },
  {
   "cell_type": "markdown",
   "metadata": {},
   "source": [
    "### Assign `diffpsfimg` to a `DiffData` object to have the correct psf slice"
   ]
  },
  {
   "cell_type": "code",
   "execution_count": 17,
   "metadata": {},
   "outputs": [],
   "source": [
    "comp_obj = ztflc.diffdata.DiffData(diffimgpath,\n",
    "                                   diffpsfpath,\n",
    "                                   (ra_list[ind],\n",
    "                                    dec_list[ind]))\n",
    "pdata = comp_obj.psfimg"
   ]
  },
  {
   "cell_type": "markdown",
   "metadata": {},
   "source": [
    "### Norm one on the other"
   ]
  },
  {
   "cell_type": "code",
   "execution_count": 18,
   "metadata": {},
   "outputs": [],
   "source": [
    "psfex_max = np.max(np.ravel(psfimg))\n",
    "\n",
    "pdata_norm = np.sum(np.ravel(pdata))\n",
    "pdata_normed = pdata/pdata_norm\n",
    "pdata_normed_max = np.max(pdata_normed)\n",
    "pdata_scaled = pdata_normed*psfex_max/pdata_normed_max"
   ]
  },
  {
   "cell_type": "markdown",
   "metadata": {},
   "source": [
    "### Make a patch to compute the difference"
   ]
  },
  {
   "cell_type": "code",
   "execution_count": 19,
   "metadata": {},
   "outputs": [],
   "source": [
    "xx, yy = np.shape(pdata)\n",
    "x, y = xx/2, yy/2\n",
    "dx, dy = np.shape(psfimg)\n",
    "\n",
    "x_slice = slice(int(x-dx/2+0.5), int(x+dx/2+0.5))\n",
    "y_slice = slice(int(y-dy/2+0.5), int(y+dy/2+0.5))\n",
    "pdata_patch = pdata_scaled[y_slice].T[x_slice].T"
   ]
  },
  {
   "cell_type": "markdown",
   "metadata": {},
   "source": [
    "### Comparison plot"
   ]
  },
  {
   "cell_type": "code",
   "execution_count": 35,
   "metadata": {},
   "outputs": [
    {
     "data": {
      "application/vnd.jupyter.widget-view+json": {
       "model_id": "4478551bb57b41ee80c765fd2bf38059",
       "version_major": 2,
       "version_minor": 0
      },
      "text/plain": [
       "Canvas(toolbar=Toolbar(toolitems=[('Home', 'Reset original view', 'home', 'home'), ('Back', 'Back to previous …"
      ]
     },
     "metadata": {},
     "output_type": "display_data"
    }
   ],
   "source": [
    "plt.close()\n",
    "fig = plt.figure(figsize=[5, 8])\n",
    "\n",
    "ax = fig.add_subplot(321)\n",
    "ax.imshow(comp_obj.diffimg[y_slice].T[x_slice].T)\n",
    "plt.title('diffimg')\n",
    "\n",
    "ax = fig.add_subplot(322)\n",
    "ax.imshow(pdata_patch)\n",
    "plt.title('diffimgpsf.fits')\n",
    "\n",
    "ax = fig.add_subplot(323)\n",
    "ax.imshow(comp_obj.diffimg[y_slice].T[x_slice].T)\n",
    "plt.title('diffimg')\n",
    "\n",
    "ax = fig.add_subplot(324)\n",
    "ax.imshow(psfimg)\n",
    "plt.title('test.psf')\n",
    "\n",
    "ax = fig.add_subplot(326)\n",
    "im = ax.imshow((pdata_patch-psfimg)/np.max(psfimg))\n",
    "plt.title('Diff/max_middle')\n",
    "\n",
    "divider = make_axes_locatable(ax)\n",
    "cax = divider.append_axes('right', size='5%', pad=0.05)\n",
    "fig.colorbar(im, cax=cax, orientation='vertical')\n",
    "\n",
    "fig.suptitle('PSF diff for ' + psfchoice.value, fontsize=11)\n",
    "\n",
    "fig.savefig('../Images/' + 'png' + '/diffimgpsf_testpsf_diff_' + psfchoice.value + '.png',\n",
    "            bbox_inches='tight')\n",
    "fig.savefig('../Images/' + 'pdf' + '/diffimgpsf_testpsf_diff_' + psfchoice.value + '.pdf',\n",
    "            bbox_inches='tight')"
   ]
  }
 ],
 "metadata": {
  "kernelspec": {
   "display_name": "Python 3",
   "language": "python",
   "name": "python3"
  },
  "language_info": {
   "codemirror_mode": {
    "name": "ipython",
    "version": 3
   },
   "file_extension": ".py",
   "mimetype": "text/x-python",
   "name": "python",
   "nbconvert_exporter": "python",
   "pygments_lexer": "ipython3",
   "version": "3.7.4"
  }
 },
 "nbformat": 4,
 "nbformat_minor": 4
}
