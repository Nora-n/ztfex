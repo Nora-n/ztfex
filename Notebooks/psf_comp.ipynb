{
 "cells": [
  {
   "cell_type": "markdown",
   "metadata": {},
   "source": [
    "# Modules"
   ]
  },
  {
   "cell_type": "code",
   "execution_count": 1,
   "metadata": {
    "jupyter": {
     "source_hidden": true
    }
   },
   "outputs": [],
   "source": [
    "%matplotlib widget\n",
    "import os\n",
    "import glob\n",
    "import psfex\n",
    "import pickle\n",
    "import sncosmo\n",
    "import numpy as np\n",
    "import pandas as pd\n",
    "import iminuit as im\n",
    "import astropy as ap\n",
    "import ipywidgets as ipw\n",
    "import matplotlib.pyplot as plt\n",
    "import ztfquery\n",
    "import ztfimg\n",
    "import ztflc\n",
    "\n",
    "from ztfimg import dao\n",
    "from ztfimg import image\n",
    "from ztflc import fitter\n",
    "from ztflc import diffdata\n",
    "from astropy.io import fits\n",
    "from ztfquery import marshal\n",
    "from astrobject import photometry\n",
    "from ztflc import forcephotometry\n",
    "from scipy.stats import multivariate_normal\n",
    "from sncosmo.models import Source, Model, get_source\n",
    "from mpl_toolkits.axes_grid1 import make_axes_locatable\n",
    "from sncosmo import get_bandpass, get_magsystem\n",
    "from sncosmo.photdata import photometric_data"
   ]
  },
  {
   "cell_type": "markdown",
   "metadata": {},
   "source": [
    "## Img loading"
   ]
  },
  {
   "cell_type": "code",
   "execution_count": 2,
   "metadata": {},
   "outputs": [],
   "source": [
    "root = \"../Data/\"\n",
    "sciimg = root + \"ztf_20190124095417_000403_zr_c01_o_q1_sciimg.fits\"\n",
    "mask = root + \"ztf_20190124095417_000403_zr_c01_o_q1_mskimg.fits\"\n",
    "psFranck = root + \"ztf_20190124095417_000403_zr_c01_o_q1_psfcat.fits\"\n",
    "psfcent = root + \"ztf_20190124095417_000403_zr_c01_o_q1_sciimgdaopsfcent.fits\"\n",
    "\n",
    "hdul = fits.open(sciimg)\n",
    "pdul = fits.open(psFranck)\n",
    "cdul = fits.open(psfcent)\n",
    "\n",
    "cdata = cdul[0].data\n",
    "header = hdul[0].header\n",
    "\n",
    "psfcat = pd.DataFrame(pdul[1].data)\n",
    "x_list, y_list = psfcat['xpos'], psfcat['ypos']\n",
    "\n",
    "z = image.ScienceImage(sciimg, mask)\n",
    "z.load_source_background()\n",
    "z.set_catalog(psfcat, 'psfcat')\n",
    "\n",
    "row = z.header[\"NAXIS1\"]\n",
    "col = z.header[\"NAXIS2\"]"
   ]
  },
  {
   "cell_type": "markdown",
   "metadata": {},
   "source": [
    "## Create sciunc"
   ]
  },
  {
   "cell_type": "markdown",
   "metadata": {},
   "source": [
    "FILE_OUT = sciimg[:-11] + 'sciunc.fits'\n",
    "\n",
    "fake_sci = fits.HDUList(fits.PrimaryHDU(data=z.sourcebackground.rms(),\n",
    "                                        header=header))\n",
    "fake_sci.writeto(FILE_OUT, overwrite=True)"
   ]
  },
  {
   "cell_type": "markdown",
   "metadata": {},
   "source": [
    "## Show img+cat"
   ]
  },
  {
   "cell_type": "markdown",
   "metadata": {},
   "source": [
    "plt.close()\n",
    "ax = z.show('dataclean')\n",
    "ax.scatter(x_list, y_list, color='C1', marker='+')"
   ]
  },
  {
   "cell_type": "markdown",
   "metadata": {},
   "source": [
    "## Show PSF stamps at center"
   ]
  },
  {
   "cell_type": "markdown",
   "metadata": {},
   "source": [
    "## PSF choice?"
   ]
  },
  {
   "cell_type": "code",
   "execution_count": 3,
   "metadata": {},
   "outputs": [
    {
     "data": {
      "application/vnd.jupyter.widget-view+json": {
       "model_id": "43e848869c22478cb21b193dda8a46d4",
       "version_major": 2,
       "version_minor": 0
      },
      "text/plain": [
       "interactive(children=(Dropdown(description='Which psfex.config?', index=1, options=('psfex_wrapper', 'BlackGEM…"
      ]
     },
     "metadata": {},
     "output_type": "display_data"
    }
   ],
   "source": [
    "subdir_list = [subdir_name for subdir_name in os.listdir('../Data/config_ZOGY/')]\n",
    "\n",
    "psfchoice = ipw.Dropdown(options=subdir_list,\n",
    "                         description='Which psfex.config?',\n",
    "                         value=subdir_list[1])\n",
    "def choose_psf(psfdir):\n",
    "    global psfimg, psfimg_cent, psfimg_smpl, psfobj\n",
    "    psfilepath = \"../Data/config_ZOGY/\" + psfdir + '/test.psf'\n",
    "    psfobj = psfex.PSFEx(psfilepath)\n",
    "    psfimg = psfobj.get_rec(row, col)\n",
    "    psfimg_cent = psfobj.get_rec(row/2, col/2)\n",
    "    psfimg_smpl = psfobj.get_rec(100, 3050)\n",
    "\n",
    "int_choose_psf = ipw.interactive(choose_psf, psfdir=psfchoice)\n",
    "display(int_choose_psf)"
   ]
  },
  {
   "cell_type": "markdown",
   "metadata": {},
   "source": [
    "### Testing `psfex_out.cat`"
   ]
  },
  {
   "cell_type": "code",
   "execution_count": 4,
   "metadata": {},
   "outputs": [],
   "source": [
    "psfoutcatpath = root + 'config_ZOGY/' + psfchoice.value + '/psfex_out.cat'\n",
    "#odul = fits.open(psfoutcatpath)\n",
    "#testcat = pd.DataFrame(tdul[2].data)"
   ]
  },
  {
   "cell_type": "markdown",
   "metadata": {},
   "source": [
    "## Norm it on daocent"
   ]
  },
  {
   "cell_type": "code",
   "execution_count": 5,
   "metadata": {},
   "outputs": [],
   "source": [
    "daocent_max = np.max(np.ravel(cdata))"
   ]
  },
  {
   "cell_type": "code",
   "execution_count": 6,
   "metadata": {},
   "outputs": [],
   "source": [
    "psfimg_norm = np.sum(np.ravel(psfimg))\n",
    "psfimg_normed = psfimg/psfimg_norm\n",
    "psfimg_normed_max = np.max(psfimg_normed)\n",
    "psfimg_scaled = psfimg_normed*daocent_max/psfimg_normed_max"
   ]
  },
  {
   "cell_type": "code",
   "execution_count": 7,
   "metadata": {},
   "outputs": [
    {
     "data": {
      "application/vnd.jupyter.widget-view+json": {
       "model_id": "bc7e6700452148aba0cae154dc983f88",
       "version_major": 2,
       "version_minor": 0
      },
      "text/plain": [
       "Canvas(toolbar=Toolbar(toolitems=[('Home', 'Reset original view', 'home', 'home'), ('Back', 'Back to previous …"
      ]
     },
     "metadata": {},
     "output_type": "display_data"
    }
   ],
   "source": [
    "plt.close()\n",
    "fig = plt.figure(figsize=[7, 3])\n",
    "\n",
    "ax = fig.add_subplot(131)\n",
    "ax.imshow(psfimg_scaled,\n",
    "          origin='lower', interpolation='nearest')\n",
    "plt.title('PSF for ' + psfchoice.value)\n",
    "\n",
    "ax = fig.add_subplot(132)\n",
    "ax.imshow(cdata,\n",
    "          origin='lower', interpolation='nearest')\n",
    "plt.title('sciimgdaopsfcent')\n",
    "\n",
    "ax = fig.add_subplot(133)\n",
    "im = ax.imshow((psfimg_scaled-cdata)/np.max(cdata),\n",
    "               origin='lower', interpolation='nearest')\n",
    "plt.title('Diff/max_middle')\n",
    "\n",
    "divider = make_axes_locatable(ax)\n",
    "cax = divider.append_axes('right', size='5%', pad=0.05)\n",
    "fig.colorbar(im, cax=cax, orientation='vertical')\n",
    "\n",
    "fig.savefig('../Images/' + 'pdf' + '/PSFEx-out_vs_psfcent_' + psfchoice.value + '.pdf')\n",
    "fig.savefig('../Images/' + 'png' + '/PSFEx-out_vs_psfcent_' + psfchoice.value + '.png')"
   ]
  },
  {
   "cell_type": "markdown",
   "metadata": {},
   "source": [
    "## Norm it on psfcent"
   ]
  },
  {
   "cell_type": "code",
   "execution_count": 8,
   "metadata": {},
   "outputs": [],
   "source": [
    "psfcent_max = np.max(np.ravel(psfimg_cent))\n",
    "psfimg_norm = np.sum(np.ravel(psfimg_smpl))\n",
    "psfimg_normed = psfimg_smpl/psfimg_norm\n",
    "psfimg_normed_max = np.max(psfimg_normed)\n",
    "psfimg_scaled = psfimg_normed*psfcent_max/psfimg_normed_max"
   ]
  },
  {
   "cell_type": "code",
   "execution_count": 9,
   "metadata": {},
   "outputs": [
    {
     "data": {
      "application/vnd.jupyter.widget-view+json": {
       "model_id": "e3a8913f20d148abaff17ae5b453eadc",
       "version_major": 2,
       "version_minor": 0
      },
      "text/plain": [
       "Canvas(toolbar=Toolbar(toolitems=[('Home', 'Reset original view', 'home', 'home'), ('Back', 'Back to previous …"
      ]
     },
     "metadata": {},
     "output_type": "display_data"
    }
   ],
   "source": [
    "plt.close()\n",
    "fig = plt.figure(figsize=[7, 3])\n",
    "\n",
    "ax = fig.add_subplot(131)\n",
    "ax.imshow(psfimg_scaled)\n",
    "plt.title('PSf @ (100, 3050)')\n",
    "\n",
    "ax = fig.add_subplot(132)\n",
    "ax.imshow(psfimg_cent)\n",
    "plt.title('PSF @ (1536, 1540)')\n",
    "\n",
    "ax = fig.add_subplot(133)\n",
    "im = ax.imshow((psfimg_scaled-psfimg_cent)/np.max(psfimg_cent))\n",
    "plt.title('Diff/max_middle')\n",
    "\n",
    "divider = make_axes_locatable(ax)\n",
    "cax = divider.append_axes('right', size='5%', pad=0.05)\n",
    "fig.colorbar(im, cax=cax, orientation='vertical')\n",
    "\n",
    "fig.suptitle('PSF for ' + psfchoice.value, fontsize=16)\n",
    "\n",
    "fig.savefig('../Images/' + 'png' + 'psfsmpl_psfcent_diff_' + psfchoice.value + '.png',\n",
    "            bbox_inches='tight')\n",
    "fig.savefig('../Images/' + 'pdf' + 'psfsmpl_psfcent_diff_' + psfchoice.value + '.pdf',\n",
    "            bbox_inches='tight')"
   ]
  },
  {
   "cell_type": "code",
   "execution_count": null,
   "metadata": {},
   "outputs": [],
   "source": []
  }
 ],
 "metadata": {
  "kernelspec": {
   "display_name": "Python 3",
   "language": "python",
   "name": "python3"
  },
  "language_info": {
   "codemirror_mode": {
    "name": "ipython",
    "version": 3
   },
   "file_extension": ".py",
   "mimetype": "text/x-python",
   "name": "python",
   "nbconvert_exporter": "python",
   "pygments_lexer": "ipython3",
   "version": "3.7.4"
  }
 },
 "nbformat": 4,
 "nbformat_minor": 4
}
